{
 "cells": [
  {
   "cell_type": "code",
   "execution_count": 2,
   "metadata": {},
   "outputs": [],
   "source": [
    "# TRY OUT:\n",
    "# 1. DIFFERENT EPOCHS\n",
    "# 2. DIFFERENT NUMBER OF LAYERS\n",
    "# 3. DIFFERENT OPTIMIZERS\n",
    "# 4. DIFFERENT BATCH SIZES\n",
    "# 5. DIFFERENT TIME STEPS"
   ]
  },
  {
   "cell_type": "code",
   "execution_count": 3,
   "metadata": {},
   "outputs": [],
   "source": [
    "# importing libraries\n",
    "import numpy as np\n",
    "import pandas as pd\n",
    "import matplotlib.pyplot as plt"
   ]
  },
  {
   "cell_type": "code",
   "execution_count": 4,
   "metadata": {},
   "outputs": [],
   "source": [
    "# reading data\n",
    "stock = pd.read_csv(\"../data/Stocks/aapl.us.txt\")"
   ]
  },
  {
   "cell_type": "code",
   "execution_count": 5,
   "metadata": {},
   "outputs": [
    {
     "data": {
      "text/html": [
       "<div>\n",
       "<style scoped>\n",
       "    .dataframe tbody tr th:only-of-type {\n",
       "        vertical-align: middle;\n",
       "    }\n",
       "\n",
       "    .dataframe tbody tr th {\n",
       "        vertical-align: top;\n",
       "    }\n",
       "\n",
       "    .dataframe thead th {\n",
       "        text-align: right;\n",
       "    }\n",
       "</style>\n",
       "<table border=\"1\" class=\"dataframe\">\n",
       "  <thead>\n",
       "    <tr style=\"text-align: right;\">\n",
       "      <th></th>\n",
       "      <th>Date</th>\n",
       "      <th>Open</th>\n",
       "      <th>High</th>\n",
       "      <th>Low</th>\n",
       "      <th>Close</th>\n",
       "      <th>Volume</th>\n",
       "      <th>OpenInt</th>\n",
       "    </tr>\n",
       "  </thead>\n",
       "  <tbody>\n",
       "    <tr>\n",
       "      <th>0</th>\n",
       "      <td>1984-09-07</td>\n",
       "      <td>0.42388</td>\n",
       "      <td>0.42902</td>\n",
       "      <td>0.41874</td>\n",
       "      <td>0.42388</td>\n",
       "      <td>23220030</td>\n",
       "      <td>0</td>\n",
       "    </tr>\n",
       "    <tr>\n",
       "      <th>1</th>\n",
       "      <td>1984-09-10</td>\n",
       "      <td>0.42388</td>\n",
       "      <td>0.42516</td>\n",
       "      <td>0.41366</td>\n",
       "      <td>0.42134</td>\n",
       "      <td>18022532</td>\n",
       "      <td>0</td>\n",
       "    </tr>\n",
       "    <tr>\n",
       "      <th>2</th>\n",
       "      <td>1984-09-11</td>\n",
       "      <td>0.42516</td>\n",
       "      <td>0.43668</td>\n",
       "      <td>0.42516</td>\n",
       "      <td>0.42902</td>\n",
       "      <td>42498199</td>\n",
       "      <td>0</td>\n",
       "    </tr>\n",
       "    <tr>\n",
       "      <th>3</th>\n",
       "      <td>1984-09-12</td>\n",
       "      <td>0.42902</td>\n",
       "      <td>0.43157</td>\n",
       "      <td>0.41618</td>\n",
       "      <td>0.41618</td>\n",
       "      <td>37125801</td>\n",
       "      <td>0</td>\n",
       "    </tr>\n",
       "    <tr>\n",
       "      <th>4</th>\n",
       "      <td>1984-09-13</td>\n",
       "      <td>0.43927</td>\n",
       "      <td>0.44052</td>\n",
       "      <td>0.43927</td>\n",
       "      <td>0.43927</td>\n",
       "      <td>57822062</td>\n",
       "      <td>0</td>\n",
       "    </tr>\n",
       "  </tbody>\n",
       "</table>\n",
       "</div>"
      ],
      "text/plain": [
       "         Date     Open     High      Low    Close    Volume  OpenInt\n",
       "0  1984-09-07  0.42388  0.42902  0.41874  0.42388  23220030        0\n",
       "1  1984-09-10  0.42388  0.42516  0.41366  0.42134  18022532        0\n",
       "2  1984-09-11  0.42516  0.43668  0.42516  0.42902  42498199        0\n",
       "3  1984-09-12  0.42902  0.43157  0.41618  0.41618  37125801        0\n",
       "4  1984-09-13  0.43927  0.44052  0.43927  0.43927  57822062        0"
      ]
     },
     "execution_count": 5,
     "metadata": {},
     "output_type": "execute_result"
    }
   ],
   "source": [
    "stock.head()"
   ]
  },
  {
   "cell_type": "code",
   "execution_count": 6,
   "metadata": {},
   "outputs": [
    {
     "data": {
      "text/plain": [
       "<matplotlib.legend.Legend at 0x10c1864a8>"
      ]
     },
     "execution_count": 6,
     "metadata": {},
     "output_type": "execute_result"
    },
    {
     "data": {
      "image/png": "[encoded data removed]",
      "text/plain": [
       "<Figure size 432x288 with 1 Axes>"
      ]
     },
     "metadata": {
      "needs_background": "light"
     },
     "output_type": "display_data"
    }
   ],
   "source": [
    "# Plotting out open, high, low\n",
    "plt.figure()\n",
    "plt.plot(stock['Open'])\n",
    "plt.plot(stock['Close'])\n",
    "plt.legend(['Open', 'Close'], loc = 'upper left')"
   ]
  },
  {
   "cell_type": "code",
   "execution_count": 7,
   "metadata": {},
   "outputs": [],
   "source": [
    "# Let us try to predict using the opening price\n",
    "data = stock.iloc[:,1:2]"
   ]
  },
  {
   "cell_type": "code",
   "execution_count": 8,
   "metadata": {},
   "outputs": [
    {
     "data": {
      "text/html": [
       "<div>\n",
       "<style scoped>\n",
       "    .dataframe tbody tr th:only-of-type {\n",
       "        vertical-align: middle;\n",
       "    }\n",
       "\n",
       "    .dataframe tbody tr th {\n",
       "        vertical-align: top;\n",
       "    }\n",
       "\n",
       "    .dataframe thead th {\n",
       "        text-align: right;\n",
       "    }\n",
       "</style>\n",
       "<table border=\"1\" class=\"dataframe\">\n",
       "  <thead>\n",
       "    <tr style=\"text-align: right;\">\n",
       "      <th></th>\n",
       "      <th>Open</th>\n",
       "    </tr>\n",
       "  </thead>\n",
       "  <tbody>\n",
       "    <tr>\n",
       "      <th>0</th>\n",
       "      <td>0.42388</td>\n",
       "    </tr>\n",
       "    <tr>\n",
       "      <th>1</th>\n",
       "      <td>0.42388</td>\n",
       "    </tr>\n",
       "    <tr>\n",
       "      <th>2</th>\n",
       "      <td>0.42516</td>\n",
       "    </tr>\n",
       "    <tr>\n",
       "      <th>3</th>\n",
       "      <td>0.42902</td>\n",
       "    </tr>\n",
       "    <tr>\n",
       "      <th>4</th>\n",
       "      <td>0.43927</td>\n",
       "    </tr>\n",
       "  </tbody>\n",
       "</table>\n",
       "</div>"
      ],
      "text/plain": [
       "      Open\n",
       "0  0.42388\n",
       "1  0.42388\n",
       "2  0.42516\n",
       "3  0.42902\n",
       "4  0.43927"
      ]
     },
     "execution_count": 8,
     "metadata": {},
     "output_type": "execute_result"
    }
   ],
   "source": [
    "data.head()"
   ]
  },
  {
   "cell_type": "code",
   "execution_count": 9,
   "metadata": {},
   "outputs": [],
   "source": [
    "# Normalizing data\n",
    "from sklearn.preprocessing import MinMaxScaler\n",
    "\n",
    "scaler = MinMaxScaler()\n",
    "scaled = scaler.fit_transform(data)"
   ]
  },
  {
   "cell_type": "code",
   "execution_count": 10,
   "metadata": {},
   "outputs": [
    {
     "data": {
      "text/plain": [
       "array([[0.00109122],\n",
       "       [0.00109122],\n",
       "       [0.00109854],\n",
       "       ...,\n",
       "       [0.99382423],\n",
       "       [0.99639747],\n",
       "       [1.        ]])"
      ]
     },
     "execution_count": 10,
     "metadata": {},
     "output_type": "execute_result"
    }
   ],
   "source": [
    "scaled"
   ]
  },
  {
   "cell_type": "code",
   "execution_count": 11,
   "metadata": {},
   "outputs": [
    {
     "data": {
      "text/plain": [
       "(8364, 1)"
      ]
     },
     "execution_count": 11,
     "metadata": {},
     "output_type": "execute_result"
    }
   ],
   "source": [
    "scaled.shape"
   ]
  },
  {
   "cell_type": "code",
   "execution_count": 12,
   "metadata": {},
   "outputs": [],
   "source": [
    "# Do a train test split\n",
    "from sklearn.model_selection import train_test_split\n",
    "df_train, df_test = train_test_split(scaled, train_size = 0.8, test_size = 0.2, shuffle = False)"
   ]
  },
  {
   "cell_type": "code",
   "execution_count": 13,
   "metadata": {},
   "outputs": [
    {
     "data": {
      "text/plain": [
       "(6691, 1)"
      ]
     },
     "execution_count": 13,
     "metadata": {},
     "output_type": "execute_result"
    }
   ],
   "source": [
    "df_train.shape"
   ]
  },
  {
   "cell_type": "code",
   "execution_count": 14,
   "metadata": {},
   "outputs": [
    {
     "data": {
      "text/plain": [
       "(1673, 1)"
      ]
     },
     "execution_count": 14,
     "metadata": {},
     "output_type": "execute_result"
    }
   ],
   "source": [
    "df_test.shape"
   ]
  },
  {
   "cell_type": "code",
   "execution_count": 15,
   "metadata": {},
   "outputs": [],
   "source": [
    "# Hyper parameters\n",
    "TIME_STEPS = 60\n",
    "BATCH_SIZE = 100\n",
    "lr = 0.00010000 # learning rate\n",
    "EPOCHS = 25"
   ]
  },
  {
   "cell_type": "code",
   "execution_count": 16,
   "metadata": {},
   "outputs": [],
   "source": [
    "# Creating windows\n",
    "x_train = [] # This list contain the sequences to predict when training\n",
    "y_train = [] # This list contain the next value of the sequences when training\n",
    "\n",
    "for i in range(TIME_STEPS, df_train.shape[0]):\n",
    "    x_train.append(df_train[i-TIME_STEPS:i,0].tolist()) # ,0 used in order to return the values only\n",
    "    y_train.append(df_train[i,0].tolist()) # tolist() converts np array to simple array"
   ]
  },
  {
   "cell_type": "code",
   "execution_count": 17,
   "metadata": {},
   "outputs": [],
   "source": [
    "x_train = np.array(x_train)\n",
    "y_train = np.array(y_train)"
   ]
  },
  {
   "cell_type": "code",
   "execution_count": 18,
   "metadata": {},
   "outputs": [
    {
     "data": {
      "text/plain": [
       "array([[0.00109122, 0.00109122, 0.00109854, ..., 0.00103278, 0.00103278,\n",
       "        0.00098858],\n",
       "       [0.00109122, 0.00109854, 0.00112062, ..., 0.00103278, 0.00098858,\n",
       "        0.00092282],\n",
       "       [0.00109854, 0.00112062, 0.00117923, ..., 0.00098858, 0.00092282,\n",
       "        0.00093746],\n",
       "       ...,\n",
       "       [0.235268  , 0.23618865, 0.23665755, ..., 0.24898622, 0.24899193,\n",
       "        0.24540084],\n",
       "       [0.23618865, 0.23665755, 0.23534234, ..., 0.24899193, 0.24540084,\n",
       "        0.24536653],\n",
       "       [0.23665755, 0.23534234, 0.23734374, ..., 0.24540084, 0.24536653,\n",
       "        0.24481757]])"
      ]
     },
     "execution_count": 18,
     "metadata": {},
     "output_type": "execute_result"
    }
   ],
   "source": [
    "x_train"
   ]
  },
  {
   "cell_type": "code",
   "execution_count": 19,
   "metadata": {},
   "outputs": [
    {
     "data": {
      "text/plain": [
       "(6631, 60)"
      ]
     },
     "execution_count": 19,
     "metadata": {},
     "output_type": "execute_result"
    }
   ],
   "source": [
    "x_train.shape"
   ]
  },
  {
   "cell_type": "code",
   "execution_count": 20,
   "metadata": {},
   "outputs": [
    {
     "data": {
      "text/plain": [
       "(6631,)"
      ]
     },
     "execution_count": 20,
     "metadata": {},
     "output_type": "execute_result"
    }
   ],
   "source": [
    "y_train.shape"
   ]
  },
  {
   "cell_type": "code",
   "execution_count": 21,
   "metadata": {},
   "outputs": [],
   "source": [
    "# Trim the dataset to fit the batch size\n",
    "def trim_dataset(mat, batch_size):\n",
    "    \"\"\"\n",
    "    trims dataset to a size that's divisible by the batch size\n",
    "    \"\"\"\n",
    "    no_of_rows_drop = mat.shape[0]%batch_size\n",
    "    if(no_of_rows_drop > 0):\n",
    "        return mat[:-no_of_rows_drop]\n",
    "    else:\n",
    "        return mat"
   ]
  },
  {
   "cell_type": "code",
   "execution_count": 22,
   "metadata": {},
   "outputs": [],
   "source": [
    "x_train = trim_dataset(x_train, BATCH_SIZE)\n",
    "y_train = trim_dataset(y_train, BATCH_SIZE)"
   ]
  },
  {
   "cell_type": "code",
   "execution_count": 23,
   "metadata": {},
   "outputs": [
    {
     "data": {
      "text/plain": [
       "(6600, 60)"
      ]
     },
     "execution_count": 23,
     "metadata": {},
     "output_type": "execute_result"
    }
   ],
   "source": [
    "x_train.shape"
   ]
  },
  {
   "cell_type": "code",
   "execution_count": 24,
   "metadata": {},
   "outputs": [
    {
     "data": {
      "text/plain": [
       "(6600,)"
      ]
     },
     "execution_count": 24,
     "metadata": {},
     "output_type": "execute_result"
    }
   ],
   "source": [
    "y_train.shape"
   ]
  },
  {
   "cell_type": "code",
   "execution_count": 25,
   "metadata": {},
   "outputs": [],
   "source": [
    "# Reshaping it to include the 1 feature\n",
    "x_train = np.reshape(x_train, (x_train.shape[0], x_train.shape[1], 1))"
   ]
  },
  {
   "cell_type": "code",
   "execution_count": 26,
   "metadata": {},
   "outputs": [
    {
     "data": {
      "text/plain": [
       "(6600, 60, 1)"
      ]
     },
     "execution_count": 26,
     "metadata": {},
     "output_type": "execute_result"
    }
   ],
   "source": [
    "x_train.shape"
   ]
  },
  {
   "cell_type": "code",
   "execution_count": 27,
   "metadata": {},
   "outputs": [
    {
     "name": "stderr",
     "output_type": "stream",
     "text": [
      "Using TensorFlow backend.\n"
     ]
    }
   ],
   "source": [
    "# Now we create the model\n",
    "from keras.models import Sequential\n",
    "from keras.layers import Dense\n",
    "from keras.layers import LSTM\n",
    "from keras.layers import Dropout\n",
    "from keras import optimizers"
   ]
  },
  {
   "cell_type": "code",
   "execution_count": 28,
   "metadata": {},
   "outputs": [
    {
     "name": "stdout",
     "output_type": "stream",
     "text": [
      "WARNING:tensorflow:From /anaconda3/lib/python3.7/site-packages/keras/backend/tensorflow_backend.py:74: The name tf.get_default_graph is deprecated. Please use tf.compat.v1.get_default_graph instead.\n",
      "\n",
      "WARNING:tensorflow:From /anaconda3/lib/python3.7/site-packages/keras/backend/tensorflow_backend.py:517: The name tf.placeholder is deprecated. Please use tf.compat.v1.placeholder instead.\n",
      "\n",
      "WARNING:tensorflow:From /anaconda3/lib/python3.7/site-packages/keras/backend/tensorflow_backend.py:4138: The name tf.random_uniform is deprecated. Please use tf.random.uniform instead.\n",
      "\n",
      "WARNING:tensorflow:From /anaconda3/lib/python3.7/site-packages/keras/backend/tensorflow_backend.py:133: The name tf.placeholder_with_default is deprecated. Please use tf.compat.v1.placeholder_with_default instead.\n",
      "\n",
      "WARNING:tensorflow:From /anaconda3/lib/python3.7/site-packages/keras/backend/tensorflow_backend.py:3445: calling dropout (from tensorflow.python.ops.nn_ops) with keep_prob is deprecated and will be removed in a future version.\n",
      "Instructions for updating:\n",
      "Please use `rate` instead of `keep_prob`. Rate should be set to `rate = 1 - keep_prob`.\n",
      "WARNING:tensorflow:From /anaconda3/lib/python3.7/site-packages/keras/optimizers.py:790: The name tf.train.Optimizer is deprecated. Please use tf.compat.v1.train.Optimizer instead.\n",
      "\n",
      "WARNING:tensorflow:From /anaconda3/lib/python3.7/site-packages/tensorflow/python/ops/math_grad.py:1250: add_dispatch_support.<locals>.wrapper (from tensorflow.python.ops.array_ops) is deprecated and will be removed in a future version.\n",
      "Instructions for updating:\n",
      "Use tf.where in 2.0, which has the same broadcast rule as np.where\n",
      "WARNING:tensorflow:From /anaconda3/lib/python3.7/site-packages/keras/backend/tensorflow_backend.py:986: The name tf.assign_add is deprecated. Please use tf.compat.v1.assign_add instead.\n",
      "\n",
      "Epoch 1/25\n",
      "6600/6600 [==============================] - 37s 6ms/step - loss: 0.0011\n",
      "Epoch 2/25\n",
      "6600/6600 [==============================] - 34s 5ms/step - loss: 6.0009e-05\n",
      "Epoch 3/25\n",
      "6600/6600 [==============================] - 39s 6ms/step - loss: 5.7931e-05\n",
      "Epoch 4/25\n",
      "6600/6600 [==============================] - 34s 5ms/step - loss: 5.1253e-05\n",
      "Epoch 5/25\n",
      "6600/6600 [==============================] - 30s 5ms/step - loss: 4.8728e-05\n",
      "Epoch 6/25\n",
      "6600/6600 [==============================] - 30s 4ms/step - loss: 4.6763e-05\n",
      "Epoch 7/25\n",
      "6600/6600 [==============================] - 36s 5ms/step - loss: 4.5036e-05\n",
      "Epoch 8/25\n",
      "6600/6600 [==============================] - 31s 5ms/step - loss: 4.2602e-05\n",
      "Epoch 9/25\n",
      "6600/6600 [==============================] - 30s 5ms/step - loss: 4.3168e-05\n",
      "Epoch 10/25\n",
      "6600/6600 [==============================] - 31s 5ms/step - loss: 4.6002e-05\n",
      "Epoch 11/25\n",
      "6600/6600 [==============================] - 34s 5ms/step - loss: 4.0698e-05\n",
      "Epoch 12/25\n",
      "6600/6600 [==============================] - 31s 5ms/step - loss: 4.0704e-05\n",
      "Epoch 13/25\n",
      "6600/6600 [==============================] - 33s 5ms/step - loss: 3.4772e-05\n",
      "Epoch 14/25\n",
      "6600/6600 [==============================] - 31s 5ms/step - loss: 3.5720e-05\n",
      "Epoch 15/25\n",
      "6600/6600 [==============================] - 31s 5ms/step - loss: 3.8861e-05\n",
      "Epoch 16/25\n",
      "6600/6600 [==============================] - 33s 5ms/step - loss: 3.7994e-05\n",
      "Epoch 17/25\n",
      "6600/6600 [==============================] - 31s 5ms/step - loss: 3.8311e-05\n",
      "Epoch 18/25\n",
      "6600/6600 [==============================] - 30s 5ms/step - loss: 3.2564e-05\n",
      "Epoch 19/25\n",
      "6600/6600 [==============================] - 30s 5ms/step - loss: 3.7790e-05\n",
      "Epoch 20/25\n",
      "6600/6600 [==============================] - 33s 5ms/step - loss: 3.6039e-05\n",
      "Epoch 21/25\n",
      "6600/6600 [==============================] - 34s 5ms/step - loss: 3.5228e-05\n",
      "Epoch 22/25\n",
      "6600/6600 [==============================] - 33s 5ms/step - loss: 3.3247e-05\n",
      "Epoch 23/25\n",
      "6600/6600 [==============================] - 31s 5ms/step - loss: 3.3571e-05\n",
      "Epoch 24/25\n",
      "6600/6600 [==============================] - 30s 5ms/step - loss: 3.1294e-05\n",
      "Epoch 25/25\n",
      "6600/6600 [==============================] - 30s 5ms/step - loss: 3.3872e-05\n"
     ]
    },
    {
     "data": {
      "text/plain": [
       "<keras.callbacks.History at 0x1a48020b00>"
      ]
     },
     "execution_count": 28,
     "metadata": {},
     "output_type": "execute_result"
    }
   ],
   "source": [
    "model = Sequential()\n",
    "\n",
    "model.add(LSTM(50, input_shape = (TIME_STEPS, x_train.shape[2]), return_sequences = True))\n",
    "model.add(Dropout(0.2))\n",
    "\n",
    "model.add(LSTM(50, return_sequences = True))\n",
    "model.add(Dropout(0.2))\n",
    "\n",
    "model.add(LSTM(50))\n",
    "model.add(Dropout(0.2))\n",
    "\n",
    "model.add(Dense(1))\n",
    "\n",
    "optimizer = optimizers.RMSprop(lr=lr)\n",
    "model.compile(optimizer = optimizer, loss = 'mean_squared_error', metrics=['accuracy'])\n",
    "\n",
    "model.fit(x_train, y_train, epochs = EPOCHS, batch_size = BATCH_SIZE)"
   ]
  },
  {
   "cell_type": "code",
   "execution_count": 55,
   "metadata": {},
   "outputs": [
    {
     "data": {
      "text/plain": [
       "(1600, 1)"
      ]
     },
     "execution_count": 55,
     "metadata": {},
     "output_type": "execute_result"
    }
   ],
   "source": [
    "##### Preparing test and validation sets\n",
    "df_test.shape"
   ]
  },
  {
   "cell_type": "code",
   "execution_count": 56,
   "metadata": {},
   "outputs": [],
   "source": [
    "df_test = trim_dataset(df_test, BATCH_SIZE)"
   ]
  },
  {
   "cell_type": "code",
   "execution_count": 57,
   "metadata": {},
   "outputs": [
    {
     "data": {
      "text/plain": [
       "(1600, 1)"
      ]
     },
     "execution_count": 57,
     "metadata": {},
     "output_type": "execute_result"
    }
   ],
   "source": [
    "df_test.shape"
   ]
  },
  {
   "cell_type": "code",
   "execution_count": 58,
   "metadata": {},
   "outputs": [],
   "source": [
    "# x_test will be the first half, which we will try to predict the 2nd half\n",
    "# we will then check this with x_val\n",
    "\n",
    "df_val, df_testing = np.split(df_test, 2)"
   ]
  },
  {
   "cell_type": "code",
   "execution_count": 59,
   "metadata": {},
   "outputs": [],
   "source": [
    "# df_testing.shape"
   ]
  },
  {
   "cell_type": "code",
   "execution_count": 60,
   "metadata": {},
   "outputs": [],
   "source": [
    "# df_val.shape"
   ]
  },
  {
   "cell_type": "code",
   "execution_count": 61,
   "metadata": {},
   "outputs": [],
   "source": [
    "#### Checking accuracy of model"
   ]
  },
  {
   "cell_type": "code",
   "execution_count": 62,
   "metadata": {},
   "outputs": [],
   "source": [
    "# Normalizing data\n",
    "scaled_df_val = scaler.fit_transform(df_val)"
   ]
  },
  {
   "cell_type": "code",
   "execution_count": 89,
   "metadata": {},
   "outputs": [],
   "source": [
    "# Reshaping x_val for the LSTM\n",
    "x_val = []\n",
    "y_val = []\n",
    "\n",
    "for i in range(TIME_STEPS, df_val.shape[0]):\n",
    "    x_val.append(scaled_df_val[i-TIME_STEPS:i,0].tolist())\n",
    "    y_val.append(df_train[i,0].tolist())"
   ]
  },
  {
   "cell_type": "code",
   "execution_count": 90,
   "metadata": {},
   "outputs": [],
   "source": [
    "x_val = np.array(x_val)"
   ]
  },
  {
   "cell_type": "code",
   "execution_count": 91,
   "metadata": {},
   "outputs": [],
   "source": [
    "# x_test.shape"
   ]
  },
  {
   "cell_type": "code",
   "execution_count": 92,
   "metadata": {},
   "outputs": [],
   "source": [
    "x_val = x_val.reshape((x_val.shape[0], x_val.shape[1], 1))"
   ]
  },
  {
   "cell_type": "code",
   "execution_count": 93,
   "metadata": {},
   "outputs": [],
   "source": [
    "# x_test.shape"
   ]
  },
  {
   "cell_type": "code",
   "execution_count": 94,
   "metadata": {},
   "outputs": [],
   "source": [
    "# Predicting data using validation data\n",
    "predicted_stock_price = model.predict(x_val)\n",
    "\n",
    "# Converting back from normalized data\n",
    "predicted_stock_price = scaler.inverse_transform(predicted_stock_price)"
   ]
  },
  {
   "cell_type": "code",
   "execution_count": 95,
   "metadata": {},
   "outputs": [
    {
     "data": {
      "text/plain": [
       "740"
      ]
     },
     "execution_count": 95,
     "metadata": {},
     "output_type": "execute_result"
    }
   ],
   "source": [
    "len(predicted_stock_price)"
   ]
  },
  {
   "cell_type": "code",
   "execution_count": 96,
   "metadata": {},
   "outputs": [
    {
     "data": {
      "text/plain": [
       "800"
      ]
     },
     "execution_count": 96,
     "metadata": {},
     "output_type": "execute_result"
    }
   ],
   "source": [
    "len(df_val)"
   ]
  },
  {
   "cell_type": "code",
   "execution_count": 97,
   "metadata": {},
   "outputs": [
    {
     "data": {
      "text/plain": [
       "<function matplotlib.pyplot.show(*args, **kw)>"
      ]
     },
     "execution_count": 97,
     "metadata": {},
     "output_type": "execute_result"
    },
    {
     "data": {
      "image/png": "[encoded data removed]",
      "text/plain": [
       "<Figure size 432x288 with 1 Axes>"
      ]
     },
     "metadata": {
      "needs_background": "light"
     },
     "output_type": "display_data"
    }
   ],
   "source": [
    "# Plotting results\n",
    "plt.figure()\n",
    "plt.plot(df_val[TIME_STEPS:])\n",
    "plt.plot(predicted_stock_price)\n",
    "plt.xlabel('Time')\n",
    "plt.ylabel('Stock Price')\n",
    "plt.legend(['Real Price', 'Predicted Price'])\n",
    "plt.show"
   ]
  },
  {
   "cell_type": "code",
   "execution_count": 98,
   "metadata": {},
   "outputs": [
    {
     "data": {
      "text/plain": [
       "0.0009129157411200657"
      ]
     },
     "execution_count": 98,
     "metadata": {},
     "output_type": "execute_result"
    }
   ],
   "source": [
    "# Calculating error\n",
    "from sklearn.metrics import mean_squared_error\n",
    "\n",
    "mse = mean_squared_error(df_val[TIME_STEPS:], predicted_stock_price)\n",
    "mse / (df_val[TIME_STEPS:]).mean()"
   ]
  },
  {
   "cell_type": "code",
   "execution_count": 119,
   "metadata": {},
   "outputs": [],
   "source": [
    "# Prediction model 1 based on George V Jose\n",
    "def predict(data, num_prediction):\n",
    "    # Scaling data\n",
    "    scaler = MinMaxScaler()\n",
    "    scaled = scaler.fit_transform(data)\n",
    "\n",
    "    # Looking at last TIME_STEPS value\n",
    "    prediction_list = scaled[-TIME_STEPS:]\n",
    "    \n",
    "    for _ in range(num_prediction):\n",
    "        # Looking at last TIME_STEPS value (1 of our batch)\n",
    "        x = prediction_list[-TIME_STEPS:]\n",
    "        x = np.array(x)\n",
    "        \n",
    "        # 1 batch with TIME_STEPS and 1 feature\n",
    "        x = x.reshape((1, TIME_STEPS, 1))\n",
    "        \n",
    "        # prediction\n",
    "        print(\"predicting batch \", x)\n",
    "        output = model.predict(x)[0][0]\n",
    "        \n",
    "        # Appends prediction results back into \n",
    "        prediction_list = np.append(prediction_list, output)\n",
    "        \n",
    "    prediction_list = prediction_list[TIME_STEPS - 1:]\n",
    "    \n",
    "    # Reverse the scaling\n",
    "    prediction_list = prediction_list.reshape(num_prediction+1, 1)\n",
    "    prediction_list = scaler.inverse_transform(prediction_list)\n",
    "    \n",
    "    return prediction_list"
   ]
  },
  {
   "cell_type": "code",
   "execution_count": 122,
   "metadata": {},
   "outputs": [],
   "source": [
    "# Prediction model 2 based on Ravindra Compella\n",
    "def moving_test_window_preds(data, num_predictions):\n",
    "    prediction_list = []\n",
    "    \n",
    "    # Scaling data\n",
    "    scaler = MinMaxScaler()\n",
    "    data = scaler.fit_transform(data)\n",
    "    \n",
    "    moving_test_window = data[-TIME_STEPS:]\n",
    "    moving_test_window = np.array(moving_test_window)\n",
    "    \n",
    "    # Scaling data\n",
    "    # scaler = MinMaxScaler()\n",
    "    # moving_test_window = scaler.fit_transform(moving_test_window)\n",
    "    \n",
    "    # Reshaping data\n",
    "    moving_test_window = moving_test_window.reshape((1, TIME_STEPS, 1))\n",
    "    \n",
    "    for i in range(num_predictions):\n",
    "        print(\"predicting batch \", moving_test_window)\n",
    "        preds_one_step = model.predict(moving_test_window)\n",
    "        prediction_list.append(preds_one_step[0,0])\n",
    "        preds_one_step = preds_one_step.reshape(1,1,1)\n",
    "        moving_test_window = np.concatenate((moving_test_window[:,1:,:], preds_one_step), axis=1)\n",
    "        \n",
    "    prediction_list = np.array(prediction_list)\n",
    "    prediction_list = prediction_list.reshape(num_predictions, 1)\n",
    "    prediction_list = scaler.inverse_transform(prediction_list)\n",
    "    \n",
    "    return prediction_list"
   ]
  }
 ],
 "metadata": {
  "kernelspec": {
   "display_name": "Python 3",
   "language": "python",
   "name": "python3"
  },
  "language_info": {
   "codemirror_mode": {
    "name": "ipython",
    "version": 3
   },
   "file_extension": ".py",
   "mimetype": "text/x-python",
   "name": "python",
   "nbconvert_exporter": "python",
   "pygments_lexer": "ipython3",
   "version": "3.7.3"
  }
 },
 "nbformat": 4,
 "nbformat_minor": 2
}
